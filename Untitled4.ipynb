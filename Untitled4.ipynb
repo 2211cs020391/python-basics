{
  "nbformat": 4,
  "nbformat_minor": 0,
  "metadata": {
    "colab": {
      "provenance": []
    },
    "kernelspec": {
      "name": "python3",
      "display_name": "Python 3"
    },
    "language_info": {
      "name": "python"
    }
  },
  "cells": [
    {
      "cell_type": "code",
      "execution_count": 1,
      "metadata": {
        "colab": {
          "base_uri": "https://localhost:8080/"
        },
        "id": "KA6UXT2_Q49R",
        "outputId": "0cf3799c-c417-4e50-a0fd-daa79e66c5a2"
      },
      "outputs": [
        {
          "output_type": "stream",
          "name": "stdout",
          "text": [
            "i am going to clg\n"
          ]
        }
      ],
      "source": [
        "print(\"i am going to clg\")"
      ]
    },
    {
      "cell_type": "code",
      "source": [
        "print(\"i am going to \\nclg\")"
      ],
      "metadata": {
        "colab": {
          "base_uri": "https://localhost:8080/"
        },
        "id": "OiqaDLooRLlU",
        "outputId": "04e95eba-83df-473d-d3a6-19598eb5e9d9"
      },
      "execution_count": 2,
      "outputs": [
        {
          "output_type": "stream",
          "name": "stdout",
          "text": [
            "i am going to \n",
            "clg\n"
          ]
        }
      ]
    },
    {
      "cell_type": "code",
      "source": [
        "print(\"i am \\ngoing to \\nclg\")"
      ],
      "metadata": {
        "colab": {
          "base_uri": "https://localhost:8080/"
        },
        "id": "7d7IDAEoRSoI",
        "outputId": "53584767-cb1b-480e-b04b-6e7717af8011"
      },
      "execution_count": 3,
      "outputs": [
        {
          "output_type": "stream",
          "name": "stdout",
          "text": [
            "i am \n",
            "going to \n",
            "clg\n"
          ]
        }
      ]
    },
    {
      "cell_type": "code",
      "source": [
        "print(\"i am  \\t \\ngoing   \\t \\to \\nclg\")"
      ],
      "metadata": {
        "colab": {
          "base_uri": "https://localhost:8080/"
        },
        "id": "wygvPG-SRxzQ",
        "outputId": "92e53bac-08d0-4978-bcb3-80dc9c6eea99"
      },
      "execution_count": 9,
      "outputs": [
        {
          "output_type": "stream",
          "name": "stdout",
          "text": [
            "i am  \t \n",
            "going   \t \to \n",
            "clg\n"
          ]
        }
      ]
    },
    {
      "cell_type": "code",
      "source": [
        "print(\"i am \\rgoing to \\rclg\")"
      ],
      "metadata": {
        "colab": {
          "base_uri": "https://localhost:8080/"
        },
        "id": "sCCXxWElSZmD",
        "outputId": "d5d734ac-a879-48d4-c0fe-f65548fa8936"
      },
      "execution_count": 6,
      "outputs": [
        {
          "output_type": "stream",
          "name": "stdout",
          "text": [
            "i am \rgoing to \rclg\n"
          ]
        }
      ]
    },
    {
      "cell_type": "code",
      "source": [
        "import re"
      ],
      "metadata": {
        "id": "GcFqVtUDTdVT"
      },
      "execution_count": 7,
      "outputs": []
    },
    {
      "cell_type": "code",
      "source": [
        "string=\"08 is very good girl\"\n",
        "pattern=r'\\d+'\n",
        "matching=re.search(pattern,string)\n",
        "matching.group()"
      ],
      "metadata": {
        "colab": {
          "base_uri": "https://localhost:8080/",
          "height": 35
        },
        "id": "-8uXi21bT4Fr",
        "outputId": "a85d5f8b-f995-4998-fbc6-783533b3b99f"
      },
      "execution_count": 8,
      "outputs": [
        {
          "output_type": "execute_result",
          "data": {
            "text/plain": [
              "'08'"
            ],
            "application/vnd.google.colaboratory.intrinsic+json": {
              "type": "string"
            }
          },
          "metadata": {},
          "execution_count": 8
        }
      ]
    },
    {
      "cell_type": "code",
      "source": [
        "import re\n",
        "pattern=r'\\d+'\n",
        "string=\"08 is very good girl and 07 is bad girl\"\n",
        "matching=re.findall(pattern,string)\n",
        "print(matching)\n"
      ],
      "metadata": {
        "colab": {
          "base_uri": "https://localhost:8080/"
        },
        "id": "PScDvArWUdYx",
        "outputId": "4ae6ef61-9b6e-4b12-fb67-af11e5aca327"
      },
      "execution_count": 14,
      "outputs": [
        {
          "output_type": "stream",
          "name": "stdout",
          "text": [
            "['08', '07']\n"
          ]
        }
      ]
    },
    {
      "cell_type": "code",
      "source": [
        "import re\n",
        "text = \"\"\"\n",
        "Hello world! Contact us at info@example.com or support123@company.org. Follow us on social media: #AI #MachineLearning.\n",
        "Visit <a href=\"http://example.com\">our website</a> for more details. This is a test with number 1234.\n",
        "\"\"\"\n",
        "emails = re.findall(r'\\b[A-Za-z0-9._%+-]+@[A-Za-z0-9.-]+\\.[A-Za-z]{2,}\\b', text)\n",
        "\n",
        "text_without_numbers = re.sub(r'\\d+', '', text)\n",
        "hashtags = re.findall(r'#\\w+', text)\n",
        "normalized_text = re.sub(r'\\s+', ' ', text_without_numbers).strip()\n",
        "cleaned_text = re.sub(r'<.*?>', '', normalized_text)\n",
        "print(\"Emails:\", emails)\n",
        "print(\"Hashtags:\", hashtags)\n",
        "print(\"Cleaned Text:\", cleaned_text)"
      ],
      "metadata": {
        "colab": {
          "base_uri": "https://localhost:8080/"
        },
        "id": "cJrhsccOWlvi",
        "outputId": "7250ddae-b819-41ef-de22-7fd6f7c51362"
      },
      "execution_count": 15,
      "outputs": [
        {
          "output_type": "stream",
          "name": "stdout",
          "text": [
            "Emails: ['info@example.com', 'support123@company.org']\n",
            "Hashtags: ['#AI', '#MachineLearning']\n",
            "Cleaned Text: Hello world! Contact us at info@example.com or support@company.org. Follow us on social media: #AI #MachineLearning. Visit our website for more details. This is a test with number .\n"
          ]
        }
      ]
    },
    {
      "cell_type": "code",
      "source": [
        "pattern=r'[A]'"
      ],
      "metadata": {
        "id": "DnNWNeX9agUE"
      },
      "execution_count": null,
      "outputs": []
    }
  ]
}